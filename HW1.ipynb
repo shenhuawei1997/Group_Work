{
 "cells": [
  {
   "cell_type": "code",
   "execution_count": 1,
   "metadata": {},
   "outputs": [],
   "source": [
    "import pandas as pd\n",
    "import numpy as np\n",
    "import matplotlib.pyplot as plt\n",
    "import seaborn as sns\n",
    "from sklearn.preprocessing import LabelEncoder\n"
   ]
  },
  {
   "cell_type": "markdown",
   "metadata": {},
   "source": [
    "# 1. Import data and perform descriptive statistics"
   ]
  },
  {
   "cell_type": "markdown",
   "metadata": {},
   "source": [
    "## 1.1 Reading 'day_return' dataset "
   ]
  },
  {
   "cell_type": "code",
   "execution_count": 2,
   "metadata": {},
   "outputs": [
    {
     "data": {
      "text/html": [
       "<div>\n",
       "<style scoped>\n",
       "    .dataframe tbody tr th:only-of-type {\n",
       "        vertical-align: middle;\n",
       "    }\n",
       "\n",
       "    .dataframe tbody tr th {\n",
       "        vertical-align: top;\n",
       "    }\n",
       "\n",
       "    .dataframe thead th {\n",
       "        text-align: right;\n",
       "    }\n",
       "</style>\n",
       "<table border=\"1\" class=\"dataframe\">\n",
       "  <thead>\n",
       "    <tr style=\"text-align: right;\">\n",
       "      <th></th>\n",
       "      <th>TM.CFE</th>\n",
       "      <th>HC0.SHF</th>\n",
       "      <th>RB0.SHF</th>\n",
       "      <th>RU0.SHF</th>\n",
       "      <th>scm.INE</th>\n",
       "      <th>USDCNY.IB</th>\n",
       "    </tr>\n",
       "    <tr>\n",
       "      <th>Date</th>\n",
       "      <th></th>\n",
       "      <th></th>\n",
       "      <th></th>\n",
       "      <th></th>\n",
       "      <th></th>\n",
       "      <th></th>\n",
       "    </tr>\n",
       "  </thead>\n",
       "  <tbody>\n",
       "    <tr>\n",
       "      <th>2015-01-08</th>\n",
       "      <td>0</td>\n",
       "      <td>-0.8953</td>\n",
       "      <td>-0.2707</td>\n",
       "      <td>-1.7857</td>\n",
       "      <td>0.0000</td>\n",
       "      <td>-0.040212</td>\n",
       "    </tr>\n",
       "    <tr>\n",
       "      <th>2015-01-09</th>\n",
       "      <td>0</td>\n",
       "      <td>-1.8698</td>\n",
       "      <td>-0.8915</td>\n",
       "      <td>0.1890</td>\n",
       "      <td>0.0000</td>\n",
       "      <td>-0.038641</td>\n",
       "    </tr>\n",
       "    <tr>\n",
       "      <th>2015-01-12</th>\n",
       "      <td>0</td>\n",
       "      <td>-3.5739</td>\n",
       "      <td>-2.4181</td>\n",
       "      <td>0.6821</td>\n",
       "      <td>0.0000</td>\n",
       "      <td>0.127508</td>\n",
       "    </tr>\n",
       "    <tr>\n",
       "      <th>2015-01-13</th>\n",
       "      <td>0</td>\n",
       "      <td>-2.0057</td>\n",
       "      <td>-1.0248</td>\n",
       "      <td>-3.1484</td>\n",
       "      <td>0.0000</td>\n",
       "      <td>-0.083824</td>\n",
       "    </tr>\n",
       "    <tr>\n",
       "      <th>2015-01-14</th>\n",
       "      <td>0</td>\n",
       "      <td>-2.4836</td>\n",
       "      <td>-0.6392</td>\n",
       "      <td>-4.7528</td>\n",
       "      <td>0.0000</td>\n",
       "      <td>0.011299</td>\n",
       "    </tr>\n",
       "    <tr>\n",
       "      <th>...</th>\n",
       "      <td>...</td>\n",
       "      <td>...</td>\n",
       "      <td>...</td>\n",
       "      <td>...</td>\n",
       "      <td>...</td>\n",
       "      <td>...</td>\n",
       "    </tr>\n",
       "    <tr>\n",
       "      <th>2023-10-26</th>\n",
       "      <td>0</td>\n",
       "      <td>0.0527</td>\n",
       "      <td>0.5731</td>\n",
       "      <td>0.1371</td>\n",
       "      <td>0.3604</td>\n",
       "      <td>-0.016400</td>\n",
       "    </tr>\n",
       "    <tr>\n",
       "      <th>2023-10-27</th>\n",
       "      <td>1</td>\n",
       "      <td>1.5588</td>\n",
       "      <td>1.4714</td>\n",
       "      <td>-1.1620</td>\n",
       "      <td>0.4347</td>\n",
       "      <td>0.094400</td>\n",
       "    </tr>\n",
       "    <tr>\n",
       "      <th>2023-10-30</th>\n",
       "      <td>1</td>\n",
       "      <td>1.0747</td>\n",
       "      <td>1.2453</td>\n",
       "      <td>-2.1357</td>\n",
       "      <td>0.5273</td>\n",
       "      <td>-0.049200</td>\n",
       "    </tr>\n",
       "    <tr>\n",
       "      <th>2023-10-31</th>\n",
       "      <td>1</td>\n",
       "      <td>0.0780</td>\n",
       "      <td>0.2148</td>\n",
       "      <td>-0.3865</td>\n",
       "      <td>-1.8760</td>\n",
       "      <td>0.021900</td>\n",
       "    </tr>\n",
       "    <tr>\n",
       "      <th>2023-11-01</th>\n",
       "      <td>1</td>\n",
       "      <td>0.4940</td>\n",
       "      <td>0.5363</td>\n",
       "      <td>0.2120</td>\n",
       "      <td>-1.5082</td>\n",
       "      <td>0.000000</td>\n",
       "    </tr>\n",
       "  </tbody>\n",
       "</table>\n",
       "<p>2144 rows × 6 columns</p>\n",
       "</div>"
      ],
      "text/plain": [
       "            TM.CFE  HC0.SHF  RB0.SHF  RU0.SHF  scm.INE  USDCNY.IB\n",
       "Date                                                             \n",
       "2015-01-08       0  -0.8953  -0.2707  -1.7857   0.0000  -0.040212\n",
       "2015-01-09       0  -1.8698  -0.8915   0.1890   0.0000  -0.038641\n",
       "2015-01-12       0  -3.5739  -2.4181   0.6821   0.0000   0.127508\n",
       "2015-01-13       0  -2.0057  -1.0248  -3.1484   0.0000  -0.083824\n",
       "2015-01-14       0  -2.4836  -0.6392  -4.7528   0.0000   0.011299\n",
       "...            ...      ...      ...      ...      ...        ...\n",
       "2023-10-26       0   0.0527   0.5731   0.1371   0.3604  -0.016400\n",
       "2023-10-27       1   1.5588   1.4714  -1.1620   0.4347   0.094400\n",
       "2023-10-30       1   1.0747   1.2453  -2.1357   0.5273  -0.049200\n",
       "2023-10-31       1   0.0780   0.2148  -0.3865  -1.8760   0.021900\n",
       "2023-11-01       1   0.4940   0.5363   0.2120  -1.5082   0.000000\n",
       "\n",
       "[2144 rows x 6 columns]"
      ]
     },
     "execution_count": 2,
     "metadata": {},
     "output_type": "execute_result"
    }
   ],
   "source": [
    "# 从Excel文件中读取数据\n",
    "day_return = pd.read_excel('day_return.xlsx')\n",
    "\n",
    "# 将'Date'列的值作为行索引，删除'Date'列\n",
    "day_return.index = day_return.Date\n",
    "day_return.drop('Date',axis = 1,inplace = True)\n",
    "\n",
    "# 然后删除包含缺失值的行\n",
    "day_return.dropna(axis=0, how='any', thresh=None, subset=None, inplace=True)\n",
    "day_return.dropna(inplace=True)\n",
    "# 最后得到 day_returnDataFrame 不包含缺失值 的数据集\n",
    "\n",
    "# 展示数据集\n",
    "day_return"
   ]
  },
  {
   "cell_type": "code",
   "execution_count": 3,
   "metadata": {},
   "outputs": [
    {
     "data": {
      "text/plain": [
       "<AxesSubplot:xlabel='Date'>"
      ]
     },
     "execution_count": 3,
     "metadata": {},
     "output_type": "execute_result"
    },
    {
     "data": {
      "image/png": "[encoded data removed]",
      "text/plain": [
       "<Figure size 432x288 with 1 Axes>"
      ]
     },
     "metadata": {
      "needs_background": "light"
     },
     "output_type": "display_data"
    }
   ],
   "source": [
    "# 画图\n",
    "day_return.plot()"
   ]
  },
  {
   "cell_type": "code",
   "execution_count": 4,
   "metadata": {},
   "outputs": [
    {
     "data": {
      "text/html": [
       "<div>\n",
       "<style scoped>\n",
       "    .dataframe tbody tr th:only-of-type {\n",
       "        vertical-align: middle;\n",
       "    }\n",
       "\n",
       "    .dataframe tbody tr th {\n",
       "        vertical-align: top;\n",
       "    }\n",
       "\n",
       "    .dataframe thead th {\n",
       "        text-align: right;\n",
       "    }\n",
       "</style>\n",
       "<table border=\"1\" class=\"dataframe\">\n",
       "  <thead>\n",
       "    <tr style=\"text-align: right;\">\n",
       "      <th></th>\n",
       "      <th>TM.CFE</th>\n",
       "      <th>HC0.SHF</th>\n",
       "      <th>RB0.SHF</th>\n",
       "      <th>RU0.SHF</th>\n",
       "      <th>scm.INE</th>\n",
       "      <th>USDCNY.IB</th>\n",
       "    </tr>\n",
       "  </thead>\n",
       "  <tbody>\n",
       "    <tr>\n",
       "      <th>TM.CFE</th>\n",
       "      <td>1.000000</td>\n",
       "      <td>-0.114784</td>\n",
       "      <td>-0.132238</td>\n",
       "      <td>-0.100530</td>\n",
       "      <td>-0.044555</td>\n",
       "      <td>0.036721</td>\n",
       "    </tr>\n",
       "    <tr>\n",
       "      <th>HC0.SHF</th>\n",
       "      <td>-0.114784</td>\n",
       "      <td>1.000000</td>\n",
       "      <td>0.917205</td>\n",
       "      <td>0.357394</td>\n",
       "      <td>0.113968</td>\n",
       "      <td>-0.062571</td>\n",
       "    </tr>\n",
       "    <tr>\n",
       "      <th>RB0.SHF</th>\n",
       "      <td>-0.132238</td>\n",
       "      <td>0.917205</td>\n",
       "      <td>1.000000</td>\n",
       "      <td>0.367942</td>\n",
       "      <td>0.117104</td>\n",
       "      <td>-0.059721</td>\n",
       "    </tr>\n",
       "    <tr>\n",
       "      <th>RU0.SHF</th>\n",
       "      <td>-0.100530</td>\n",
       "      <td>0.357394</td>\n",
       "      <td>0.367942</td>\n",
       "      <td>1.000000</td>\n",
       "      <td>0.171872</td>\n",
       "      <td>-0.048038</td>\n",
       "    </tr>\n",
       "    <tr>\n",
       "      <th>scm.INE</th>\n",
       "      <td>-0.044555</td>\n",
       "      <td>0.113968</td>\n",
       "      <td>0.117104</td>\n",
       "      <td>0.171872</td>\n",
       "      <td>1.000000</td>\n",
       "      <td>-0.002463</td>\n",
       "    </tr>\n",
       "    <tr>\n",
       "      <th>USDCNY.IB</th>\n",
       "      <td>0.036721</td>\n",
       "      <td>-0.062571</td>\n",
       "      <td>-0.059721</td>\n",
       "      <td>-0.048038</td>\n",
       "      <td>-0.002463</td>\n",
       "      <td>1.000000</td>\n",
       "    </tr>\n",
       "  </tbody>\n",
       "</table>\n",
       "</div>"
      ],
      "text/plain": [
       "             TM.CFE   HC0.SHF   RB0.SHF   RU0.SHF   scm.INE  USDCNY.IB\n",
       "TM.CFE     1.000000 -0.114784 -0.132238 -0.100530 -0.044555   0.036721\n",
       "HC0.SHF   -0.114784  1.000000  0.917205  0.357394  0.113968  -0.062571\n",
       "RB0.SHF   -0.132238  0.917205  1.000000  0.367942  0.117104  -0.059721\n",
       "RU0.SHF   -0.100530  0.357394  0.367942  1.000000  0.171872  -0.048038\n",
       "scm.INE   -0.044555  0.113968  0.117104  0.171872  1.000000  -0.002463\n",
       "USDCNY.IB  0.036721 -0.062571 -0.059721 -0.048038 -0.002463   1.000000"
      ]
     },
     "execution_count": 4,
     "metadata": {},
     "output_type": "execute_result"
    }
   ],
   "source": [
    "# 计算皮尔逊相关系数\n",
    "day_return.corr()"
   ]
  },
  {
   "cell_type": "markdown",
   "metadata": {},
   "source": [
    "## 1.2 Splitting the dataset for training and testing"
   ]
  },
  {
   "cell_type": "code",
   "execution_count": 5,
   "metadata": {},
   "outputs": [
    {
     "data": {
      "text/plain": [
       "array([0, 0, 0, ..., 0, 1, 0], dtype=int64)"
      ]
     },
     "execution_count": 5,
     "metadata": {},
     "output_type": "execute_result"
    }
   ],
   "source": [
    "# 导入 train_test_split 函数，该函数用于将数据集分割为训练集和测试集\n",
    "from sklearn.model_selection import train_test_split\n",
    "\n",
    "# 从 day_return 数据框中选择所有行的第一列，也就是我们的预测的变量y（TM.CFE） \n",
    "y =day_return.values[:,0]\n",
    "\n",
    "# 从 day_return 数据框中选择所有行的第二列及其之后的列，将其作为解释变量，也就是特征矩阵（X）\n",
    "X= day_return.values[:,1:]\n",
    "\n",
    "# 使用 train_test_split 函数将特征矩阵（X）和目标变量（y）分割成训练集和测试集\n",
    "# test_size=0.3 表示将数据集的30%分配给测试集。\n",
    "# random_state=4 是一个种子值，确保每次运行代码时得到的划分是相同的，以便结果可重现\n",
    "x_train,x_test,y_train,y_test = train_test_split(X,y,test_size=0.3,random_state=4)\n",
    "\n",
    "# 保证我们的预测变量编码为整数\n",
    "label_encoder = LabelEncoder()\n",
    "y_train = label_encoder.fit_transform(y_train)\n",
    "\n",
    "# 展示 训练集中的预测的变量y（TM.CFE） \n",
    "y_train"
   ]
  },
  {
   "cell_type": "markdown",
   "metadata": {},
   "source": [
    "# 2. 使用不同的模型（支持向量机SVM、 Logistic回归、K近邻 k-Nearest Neighbors、随机森林 Random Forest 和决策树 DecisionTree）进行训练和预测"
   ]
  },
  {
   "cell_type": "markdown",
   "metadata": {},
   "source": [
    "## 2.1. SVM"
   ]
  },
  {
   "cell_type": "code",
   "execution_count": 6,
   "metadata": {},
   "outputs": [],
   "source": [
    "# 导入SVM Classifier，创建一个SVC对象，其中参数C是正则化参数，kernel是核函数\n",
    "from sklearn import svm\n",
    "svm_model = svm.SVC(C=1.0,kernel='rbf')\n",
    "\n",
    "# 使用训练集 (x_train, y_train) 对模型进行训练\n",
    "svm_model.fit(x_train, y_train)\n",
    "\n",
    "# 使用训练好的模型对测试集 (x_test) 进行预测，结果存储在 y_pred 中\n",
    "y_pred = svm_model.predict(x_test)\n"
   ]
  },
  {
   "cell_type": "markdown",
   "metadata": {},
   "source": [
    "## 2.2.  Logistic Regression"
   ]
  },
  {
   "cell_type": "code",
   "execution_count": 7,
   "metadata": {},
   "outputs": [],
   "source": [
    "# 导入 Logistic Classifier，创建一个 LogisticRegression 对象\n",
    "from sklearn.linear_model import LogisticRegression\n",
    "lr_model = LogisticRegression()\n",
    "\n",
    "# 使用训练集 (x_train, y_train) 对模型进行训练\n",
    "lr_model.fit(x_train, y_train)\n",
    "\n",
    "# 使用训练好的模型对测试集 (x_test) 进行预测，结果存储在 y_pred 中\n",
    "y_pred = svm_model.predict(x_test)"
   ]
  },
  {
   "cell_type": "markdown",
   "metadata": {},
   "source": [
    "## 2.3.  k-Nearest Neighbors Classifier"
   ]
  },
  {
   "cell_type": "code",
   "execution_count": 8,
   "metadata": {},
   "outputs": [],
   "source": [
    "# 导入 k-Nearest Neighbors Classifier，创建一个 KNeighborsClassifier 对象\n",
    "from sklearn.neighbors import KNeighborsClassifier\n",
    "knn_model = KNeighborsClassifier()\n",
    "\n",
    "# 使用训练集 (x_train, y_train) 对模型进行训练\n",
    "knn_model.fit(x_train, y_train)\n",
    "\n",
    "# 使用训练好的模型对测试集 (x_test) 进行预测，结果存储在 y_pred 中\n",
    "y_pred = knn_model.predict(x_test)"
   ]
  },
  {
   "cell_type": "markdown",
   "metadata": {},
   "source": [
    "## 2.4. Random Forest"
   ]
  },
  {
   "cell_type": "code",
   "execution_count": 9,
   "metadata": {},
   "outputs": [],
   "source": [
    "# 导入Random Forest Classifier，创建一个 RandomForestClassifier 对象，其中 n_estimators 是树的数量\n",
    "from sklearn.ensemble import RandomForestClassifier\n",
    "rnn_model = RandomForestClassifier(n_estimators=200)\n",
    "\n",
    "# 使用训练集 (x_train, y_train) 对模型进行训练\n",
    "rnn_model.fit(x_train, y_train)\n",
    "\n",
    "# 使用训练好的模型对测试集 (x_test) 进行预测，结果存储在 y_pred 中\n",
    "y_pred = rnn_model.predict(x_test)"
   ]
  },
  {
   "cell_type": "markdown",
   "metadata": {},
   "source": [
    "## 2.5. DecisionTree Classifier"
   ]
  },
  {
   "cell_type": "code",
   "execution_count": 10,
   "metadata": {},
   "outputs": [],
   "source": [
    "# 导入 Decision Tree Classifier，创建一个 DecisionTreeClassifier 对象，其中 random_state 是用于控制随机性的种子值\n",
    "from sklearn.tree import DecisionTreeClassifier\n",
    "\n",
    "# 使用训练集 (x_train, y_train) 对模型进行训练\n",
    "dt_model = DecisionTreeClassifier(random_state=0).fit(x_train, y_train)\n",
    "\n",
    "# 使用训练好的模型对测试集 (x_test) 进行预测，结果存储在 y_pred 中\n",
    "y_pred = dt_model.predict(x_test)"
   ]
  },
  {
   "cell_type": "markdown",
   "metadata": {},
   "source": [
    "# 3. Comparing Actual and Predicted Value"
   ]
  },
  {
   "cell_type": "code",
   "execution_count": 11,
   "metadata": {},
   "outputs": [
    {
     "name": "stdout",
     "output_type": "stream",
     "text": [
      "SVM\n",
      "   Actual  Predicted\n",
      "0     0.0          1\n",
      "1     0.0          0\n",
      "2     1.0          0\n",
      "3     1.0          0\n",
      "4     0.0          1\n",
      "\n",
      "LogisticRegression\n",
      "   Actual  Predicted\n",
      "0     0.0          0\n",
      "1     0.0          0\n",
      "2     1.0          0\n",
      "3     1.0          1\n",
      "4     0.0          1\n",
      "\n",
      "k-Nearest Neighbors Classifier\n",
      "   Actual  Predicted\n",
      "0     0.0          1\n",
      "1     0.0          0\n",
      "2     1.0          1\n",
      "3     1.0          0\n",
      "4     0.0          1\n",
      "\n",
      "Random Forest\n",
      "   Actual  Predicted\n",
      "0     0.0          0\n",
      "1     0.0          0\n",
      "2     1.0          0\n",
      "3     1.0          0\n",
      "4     0.0          1\n",
      "\n",
      "DecisionTreeClassifier\n",
      "   Actual  Predicted\n",
      "0     0.0          0\n",
      "1     0.0          0\n",
      "2     1.0          1\n",
      "3     1.0          0\n",
      "4     0.0          1\n",
      "\n"
     ]
    }
   ],
   "source": [
    "models = [svm_model, lr_model, knn_model,  rnn_model,  dt_model]\n",
    "model_names = [\"SVM\", \"LogisticRegression\", \"k-Nearest Neighbors Classifier\",  \"Random Forest\", \"DecisionTreeClassifier\"]\n",
    "for model,model_name in zip(models,model_names):\n",
    "    df = pd.DataFrame({'Actual': y_test, 'Predicted': model.predict(x_test)})  \n",
    "    print(f\"{model_name}\\n{df.head()}\\n\")"
   ]
  },
  {
   "cell_type": "markdown",
   "metadata": {},
   "source": [
    "# 4. Accuracy Score"
   ]
  },
  {
   "cell_type": "markdown",
   "metadata": {},
   "source": [
    "## 计算每个模型的预测准确度（Accuracy Score），以评估模型的性能。Accuracy Score 是模型正确预测的样本比例。"
   ]
  },
  {
   "cell_type": "code",
   "execution_count": 12,
   "metadata": {},
   "outputs": [
    {
     "name": "stdout",
     "output_type": "stream",
     "text": [
      "SVM Accuracy Score = 0.5186\n",
      "LogisticRegression Accuracy Score = 0.514\n",
      "k-Nearest Neighbors Classifier Accuracy Score = 0.5248\n",
      "Random Forest Accuracy Score = 0.5031\n",
      "DecisionTreeClassifier Accuracy Score = 0.4767\n"
     ]
    }
   ],
   "source": [
    "from sklearn.metrics import accuracy_score\n",
    "\n",
    "models = [svm_model, lr_model, knn_model,  rnn_model,  dt_model]\n",
    "model_names = [\"SVM\", \"LogisticRegression\", \"k-Nearest Neighbors Classifier\",  \"Random Forest\", \"DecisionTreeClassifier\"]\n",
    "for model,model_name in zip(models,model_names):\n",
    "    score = accuracy_score(y_test, model.predict(x_test))\n",
    "    print(f\"{model_name} Accuracy Score = {round(score,4)}\")"
   ]
  },
  {
   "cell_type": "markdown",
   "metadata": {},
   "source": [
    "### 结论：从 Accuracy Score 结果来看，K近邻模型预测性能更好，Accuracy Score = 0.5248"
   ]
  },
  {
   "cell_type": "markdown",
   "metadata": {},
   "source": [
    "# 5. Confusion Matrix"
   ]
  },
  {
   "cell_type": "markdown",
   "metadata": {},
   "source": [
    "## 混淆矩阵的行表示实际值，列表示预测值。矩阵的对角线元素表示模型正确分类的样本数量，而非对角线元素表示模型错误分类的样本数量。"
   ]
  },
  {
   "cell_type": "code",
   "execution_count": 13,
   "metadata": {},
   "outputs": [
    {
     "name": "stdout",
     "output_type": "stream",
     "text": [
      "SVM \n",
      "**Confusion Matrix**\n",
      "[[122 214]\n",
      " [ 96 212]]\n",
      "\n",
      "LogisticRegression \n",
      "**Confusion Matrix**\n",
      "[[102 234]\n",
      " [ 79 229]]\n",
      "\n",
      "k-Nearest Neighbors Classifier \n",
      "**Confusion Matrix**\n",
      "[[151 185]\n",
      " [121 187]]\n",
      "\n",
      "Random Forest \n",
      "**Confusion Matrix**\n",
      "[[139 197]\n",
      " [123 185]]\n",
      "\n",
      "DecisionTreeClassifier \n",
      "**Confusion Matrix**\n",
      "[[145 191]\n",
      " [146 162]]\n",
      "\n"
     ]
    }
   ],
   "source": [
    "from sklearn.metrics import confusion_matrix\n",
    "\n",
    "models = [svm_model, lr_model, knn_model,  rnn_model,  dt_model]\n",
    "model_names = [\"SVM\", \"LogisticRegression\", \"k-Nearest Neighbors Classifier\",  \"Random Forest\", \"DecisionTreeClassifier\"]\n",
    "for model,model_name in zip(models,model_names):\n",
    "    matrix = confusion_matrix(y_test, model.predict(x_test))\n",
    "    print(f\"{model_name} \\n**Confusion Matrix**\\n{matrix}\\n\")"
   ]
  },
  {
   "cell_type": "markdown",
   "metadata": {},
   "source": [
    "### 解释结果，以SVM 为例\n",
    "####                | 预测为0 | 预测为1 |\n",
    "#### 实际为 0 |    122     |    214     |\n",
    "#### 实际为 0 |     96      |    212     |\n",
    "#### TN: 实际为 0 且被正确预测为 0 的数量，为122\n",
    "#### FP: 实际为 0 但被错误预测为 1 的数量，为214\n",
    "#### FN: 实际为 1 但被错误预测为 0 的数量，为96\n",
    "#### TP: 实际为 1 且被正确预测为 1 的数量，为212"
   ]
  },
  {
   "cell_type": "markdown",
   "metadata": {},
   "source": [
    "# 6. Classification Report"
   ]
  },
  {
   "cell_type": "markdown",
   "metadata": {},
   "source": [
    "### 其他预测指标比较   \n",
    "### 精确度（Precision）： 正确预测的正类别样本数占所有预测为正类别的样本数的比例\n",
    "### 召回率（Recall）： 正确预测的正类别样本数占所有实际为正类别的样本数的比例\n",
    "### F1分数（F1-Score）： 精确度和召回率的平均值\n",
    "### Support： 每个类别的实际出现次数\n",
    "\n",
    "### Macro Avg： 对所有类别的指标取算术平均值\n",
    "### Weighted Avg： 对所有类别的指标进行加权平均"
   ]
  },
  {
   "cell_type": "code",
   "execution_count": 14,
   "metadata": {
    "scrolled": true
   },
   "outputs": [
    {
     "name": "stdout",
     "output_type": "stream",
     "text": [
      "SVM \n",
      "classification_report\n",
      "              precision    recall  f1-score   support\n",
      "\n",
      "         0.0       0.56      0.36      0.44       336\n",
      "         1.0       0.50      0.69      0.58       308\n",
      "\n",
      "    accuracy                           0.52       644\n",
      "   macro avg       0.53      0.53      0.51       644\n",
      "weighted avg       0.53      0.52      0.51       644\n",
      "\n",
      "\n",
      "LogisticRegression \n",
      "classification_report\n",
      "              precision    recall  f1-score   support\n",
      "\n",
      "         0.0       0.56      0.30      0.39       336\n",
      "         1.0       0.49      0.74      0.59       308\n",
      "\n",
      "    accuracy                           0.51       644\n",
      "   macro avg       0.53      0.52      0.49       644\n",
      "weighted avg       0.53      0.51      0.49       644\n",
      "\n",
      "\n",
      "k-Nearest Neighbors Classifier \n",
      "classification_report\n",
      "              precision    recall  f1-score   support\n",
      "\n",
      "         0.0       0.56      0.45      0.50       336\n",
      "         1.0       0.50      0.61      0.55       308\n",
      "\n",
      "    accuracy                           0.52       644\n",
      "   macro avg       0.53      0.53      0.52       644\n",
      "weighted avg       0.53      0.52      0.52       644\n",
      "\n",
      "\n",
      "Random Forest \n",
      "classification_report\n",
      "              precision    recall  f1-score   support\n",
      "\n",
      "         0.0       0.53      0.41      0.46       336\n",
      "         1.0       0.48      0.60      0.54       308\n",
      "\n",
      "    accuracy                           0.50       644\n",
      "   macro avg       0.51      0.51      0.50       644\n",
      "weighted avg       0.51      0.50      0.50       644\n",
      "\n",
      "\n",
      "DecisionTreeClassifier \n",
      "classification_report\n",
      "              precision    recall  f1-score   support\n",
      "\n",
      "         0.0       0.50      0.43      0.46       336\n",
      "         1.0       0.46      0.53      0.49       308\n",
      "\n",
      "    accuracy                           0.48       644\n",
      "   macro avg       0.48      0.48      0.48       644\n",
      "weighted avg       0.48      0.48      0.48       644\n",
      "\n",
      "\n"
     ]
    }
   ],
   "source": [
    "from sklearn.metrics import classification_report\n",
    "\n",
    "models = [svm_model, lr_model, knn_model,  rnn_model,  dt_model]\n",
    "model_names = [\"SVM\", \"LogisticRegression\", \"k-Nearest Neighbors Classifier\",  \"Random Forest\", \"DecisionTreeClassifier\"]\n",
    "for model,model_name in zip(models,model_names):\n",
    "    c_report = classification_report(y_test, model.predict(x_test))\n",
    "    print(f\"{model_name} \\nclassification_report\\n{c_report}\\n\")"
   ]
  },
  {
   "cell_type": "markdown",
   "metadata": {},
   "source": [
    "#### 精确度（Precision）的 Macro Avg 结果表明，SVM，LogisticRegression，k-Nearest Neighbors Classifier   预测性能更好  precision = 0.53\n",
    "#### 精确度（Precision）的 Weighted Avg 结果表明，SVM，LogisticRegression   预测性能更好  precision = 0.53\n",
    "\n",
    "#### 召回率（Recall）的 Macro Avg 结果表明，SVM，k-Nearest Neighbors Classifier   预测性能更好  Recall = 0.53\n",
    "#### 召回率（Recall）的 Weighted Avg 结果表明，k-Nearest Neighbors Classifier   预测性能更好  Recall = 0.61\n",
    "\n",
    "#### F1-Score 的 Macro Avg  结果表明，k-Nearest Neighbors Classifier   预测性能更好   F1-Score = 0.51\n",
    "#### F1-Score 的 Weighted Avg 结果表明，LogisticRegression   预测性能更好  F1-Score = 0.59\n"
   ]
  },
  {
   "cell_type": "markdown",
   "metadata": {},
   "source": [
    "# 7. ROC curve"
   ]
  },
  {
   "cell_type": "markdown",
   "metadata": {},
   "source": [
    "### ROC 曲线上的点表示不同阈值下的 True Positive Rate 与 True Negative Rate，曲线下面积（AUC）越大，模型性能越好"
   ]
  },
  {
   "cell_type": "code",
   "execution_count": 17,
   "metadata": {},
   "outputs": [
    {
     "data": {
      "image/png": "[encoded data removed]",
      "text/plain": [
       "<Figure size 432x288 with 1 Axes>"
      ]
     },
     "metadata": {
      "needs_background": "light"
     },
     "output_type": "display_data"
    },
    {
     "data": {
      "image/png": "[encoded data removed]",
      "text/plain": [
       "<Figure size 432x288 with 1 Axes>"
      ]
     },
     "metadata": {
      "needs_background": "light"
     },
     "output_type": "display_data"
    },
    {
     "data": {
      "image/png": "[encoded data removed]",
      "text/plain": [
       "<Figure size 432x288 with 1 Axes>"
      ]
     },
     "metadata": {
      "needs_background": "light"
     },
     "output_type": "display_data"
    },
    {
     "data": {
      "image/png": "[encoded data removed]",
      "text/plain": [
       "<Figure size 432x288 with 1 Axes>"
      ]
     },
     "metadata": {
      "needs_background": "light"
     },
     "output_type": "display_data"
    },
    {
     "data": {
      "image/png": "[encoded data removed]",
      "text/plain": [
       "<Figure size 432x288 with 1 Axes>"
      ]
     },
     "metadata": {
      "needs_background": "light"
     },
     "output_type": "display_data"
    }
   ],
   "source": [
    "from sklearn.metrics import plot_roc_curve\n",
    "models = [svm_model, lr_model, knn_model,  rnn_model,  dt_model]\n",
    "model_names = [\"SVM\", \"LogisticRegression\", \"k-Nearest Neighbors Classifier\",  \"Random Forest\", \"DecisionTreeClassifier\"]\n",
    "for model,model_name in zip(models,model_names):\n",
    "    plot_roc_curve(model, x_test, y_test,name=model_name)\n",
    "    x = np.linspace(0,1,100)\n",
    "    plt.plot(x,x,'k--')\n",
    "   "
   ]
  },
  {
   "cell_type": "markdown",
   "metadata": {},
   "source": [
    "#### ROC 曲线 表明 SVM  预测性能更好，曲线下面积（AUC）最大，模型性能最好，AUC = 0.56"
   ]
  },
  {
   "cell_type": "code",
   "execution_count": null,
   "metadata": {},
   "outputs": [],
   "source": []
  }
 ],
 "metadata": {
  "kernelspec": {
   "display_name": "Python 3",
   "language": "python",
   "name": "python3"
  },
  "language_info": {
   "codemirror_mode": {
    "name": "ipython",
    "version": 3
   },
   "file_extension": ".py",
   "mimetype": "text/x-python",
   "name": "python",
   "nbconvert_exporter": "python",
   "pygments_lexer": "ipython3",
   "version": "3.8.5"
  }
 },
 "nbformat": 4,
 "nbformat_minor": 4
}
